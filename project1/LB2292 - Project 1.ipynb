{
 "cells": [
  {
   "cell_type": "markdown",
   "metadata": {
    "id": "1uMhTSmHYKg5"
   },
   "source": [
    "# Project 1 - Statistical testing and multiple testing correction\n",
    "\n",
    "Notebook version: `25.0` (please don't change)"
   ]
  },
  {
   "cell_type": "markdown",
   "metadata": {},
   "source": [
    "\n",
    "Alzheimer's disease (AD) is the most common form of dementia. AD is a progressive neurodegenerative disease characterized by loss of cognitive functions and autonomy, eventually leading to death. Genome-wide gene expression profiling of the brains of individuals with AD can provide insight into differences opposed to cognitively healthy individuals.\n",
    "Hokama et al. (Cerebral Cortex, Volume 24, Issue 9, September 2014, Pages 2476-2488) measured the genome-wide (RNA) expression profiles of 79 individuals (32 with Alzheimer's) from four different brain regions; temporal cortex, frontal cortex, hippocampus and temporal cortex, using Affymetrix Human Gene 1.0ST arrays.\n",
    "\n",
    "For the project you should use the data provided to:\n",
    "\n",
    "1. Analyze the data distributions in the two sets of samples (diseases and controls) in order to motivate your choice for a statistical test\n",
    "2. Perform a differential expression test to find genes that are differentially expressed between individuals with AD and without.\n",
    "3. Do a multiple testing correction to correct for the number of tests that you performed to obtain corrected p-values.\n",
    "4. Perform an enrichment analysis to find functions enriched/depleted in the genes which are differentially expressed. And, reason on how these functions relate to AD?\n",
    "\n",
    "Hint: For functional enrichment analysis of genes you can make use of PANTHER or ENRICHR (http://amigo.geneontology.org/amigo,  https://maayanlab.cloud/Enrichr)\n",
    "\n",
    "---\n",
    " \n",
    "The results should be summarized in a poster. Make sure that you: motivate choices that you made during the analyses (aim of the performed analysis, type of algorithm, parameter settings etc.); explain and discuss your findings; explain what is represented in figures (what is on the axes etc.); and how your results relate to the original paper of Hokama et al.\n",
    "\n",
    "---"
   ]
  },
  {
   "cell_type": "markdown",
   "metadata": {},
   "source": [
    "## Dataset\n",
    "\n",
    "The gene expression data from Hokama et al. can be found in `Alzheimer_dataset.csv`. This is a csv file where the rows represent the measured genes and the columns represent the individuals. Information about the individuals can be found in `Alzheimer_metadata.csv`."
   ]
  },
  {
   "cell_type": "code",
   "execution_count": null,
   "metadata": {
    "colab": {
     "base_uri": "https://localhost:8080/"
    },
    "executionInfo": {
     "elapsed": 1728,
     "status": "ok",
     "timestamp": 1708002103046,
     "user": {
      "displayName": "Timo Verlaan",
      "userId": "18117607379973306750"
     },
     "user_tz": -60
    },
    "id": "nh6rKMxLX6wa",
    "outputId": "93b84b43-6880-4907-aaaa-d78ef1d169a5"
   },
   "outputs": [],
   "source": [
    "!wget -nc https://github.com/brmprnk/LB2292/raw/main/project1/Alzheimer_dataset.csv\n",
    "!wget -nc https://github.com/brmprnk/LB2292/raw/main/project1/Alzheimer_metadata.csv"
   ]
  },
  {
   "cell_type": "code",
   "execution_count": 6,
   "metadata": {
    "executionInfo": {
     "elapsed": 319,
     "status": "ok",
     "timestamp": 1708002222941,
     "user": {
      "displayName": "Timo Verlaan",
      "userId": "18117607379973306750"
     },
     "user_tz": -60
    },
    "id": "-gqYACkNe2E4"
   },
   "outputs": [],
   "source": [
    "import pandas as pd\n",
    "import numpy as np\n",
    "\n",
    "# ... here you can add more imports, like the ones from the Lab modules if you need them!\n",
    "\n",
    "# Below we read both csv files and store them in two pandas dataframes.\n",
    "data = pd.read_csv(\"Alzheimer_dataset.csv\", delimiter=\";\", index_col=0, decimal=\",\")\n",
    "metadata = pd.read_csv(\"Alzheimer_metadata.csv\", delimiter=\";\")"
   ]
  },
  {
   "cell_type": "markdown",
   "metadata": {},
   "source": [
    "## Pandas Tips\n",
    "\n",
    "The dataset is loaded using the `pandas` library in Python. This library provides a lot of utility functions that can be very useful, but it takes a bit of getting used to. We've provided a couple of examples for the most common operations below, but for an overview of all the operations you can do with a pandas dataset, please check the [pandas cheatsheet](https://pandas.pydata.org/Pandas_Cheat_Sheet.pdf). "
   ]
  },
  {
   "cell_type": "code",
   "execution_count": null,
   "metadata": {},
   "outputs": [],
   "source": [
    "# To get an idea of what the data looks like, we can print the first 5 rows of each dataframe using the head() method.\n",
    "# And if we use display() instead of print(), we get a nicer-looking output!\n",
    "display(data.head(5))"
   ]
  },
  {
   "cell_type": "code",
   "execution_count": null,
   "metadata": {},
   "outputs": [],
   "source": [
    "# We can also print the first 5 rows of the metadata dataframe.\n",
    "display(metadata.head(5))"
   ]
  },
  {
   "cell_type": "code",
   "execution_count": null,
   "metadata": {},
   "outputs": [],
   "source": [
    "# If we want to select a row from the data dataframe, in pandas we can use the gene name as an index!\n",
    "display(data.loc[\"OR4F5\"])\n",
    "\n",
    "# But we can also still use the index if we prefer. Then we just use iloc:\n",
    "display(data.iloc[0])"
   ]
  },
  {
   "cell_type": "code",
   "execution_count": null,
   "metadata": {},
   "outputs": [],
   "source": [
    "# If we want to select a column, we can use the column name as an index. Here we select the first 5 rows of the first column.\n",
    "display(data[\"individual_1\"][:5])\n",
    "\n",
    "# Or we do it by index, using iloc:\n",
    "display(data.iloc[:, 0][:5])"
   ]
  },
  {
   "cell_type": "code",
   "execution_count": null,
   "metadata": {},
   "outputs": [],
   "source": [
    "# Pandas can also store \"categorical\" data, instead of just numbers. \n",
    "# This is used for example in the metadata to show if a patient has Alzheimer's or not.\n",
    "\n",
    "# We can see the different categories in a column and how many times they appear using the value_counts() method.\n",
    "display(metadata[\"group\"].value_counts())"
   ]
  },
  {
   "cell_type": "code",
   "execution_count": null,
   "metadata": {
    "colab": {
     "base_uri": "https://localhost:8080/"
    },
    "executionInfo": {
     "elapsed": 4,
     "status": "ok",
     "timestamp": 1708002237414,
     "user": {
      "displayName": "Timo Verlaan",
      "userId": "18117607379973306750"
     },
     "user_tz": -60
    },
    "id": "cCL5Asr7fHoW",
    "outputId": "cd87aace-589f-4431-af8a-31202014e1da"
   },
   "outputs": [],
   "source": [
    "# As a final example, we'll look at how to use pandas to select a subset of the data based on a condition.\n",
    "# Let's select the gene expression of the FAM87A gene (index=2) for the patients that have Alzheimer's.\n",
    "\n",
    "# First we find all AD patients in the metadata dataframe:\n",
    "ad_patients = metadata[metadata[\"group\"] == \"Alzheimer's Disease\"]\n",
    "\n",
    "# The ad_patients variable now contains a dataframe with only the patients that have Alzheimer's:\n",
    "display(ad_patients.head(5))\n",
    "\n",
    "# We can use it to select the gene expression of the FAM87A gene for these patients.\n",
    "# For this, we use the \"individual\" column of the sliced dataframe we made above to select just the columns corresponding to these AD patients.\n",
    "# We then select the row corresponding to the FAM87A gene using .loc again:\n",
    "data[ad_patients[\"individual\"]].loc[\"FAM87A\"]"
   ]
  }
 ],
 "metadata": {
  "colab": {
   "provenance": [
    {
     "file_id": "1M0bzgnRf8BFgL-zhAQTxbqYnDbR68l2W",
     "timestamp": 1706021622182
    }
   ]
  },
  "kernelspec": {
   "display_name": "default",
   "language": "python",
   "name": "python3"
  },
  "language_info": {
   "codemirror_mode": {
    "name": "ipython",
    "version": 3
   },
   "file_extension": ".py",
   "mimetype": "text/x-python",
   "name": "python",
   "nbconvert_exporter": "python",
   "pygments_lexer": "ipython3",
   "version": "3.13.1"
  }
 },
 "nbformat": 4,
 "nbformat_minor": 0
}