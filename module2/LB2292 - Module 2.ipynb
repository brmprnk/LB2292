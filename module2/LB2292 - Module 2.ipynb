{
 "cells": [
  {
   "cell_type": "markdown",
   "metadata": {
    "id": "snPvFw9pKIAS"
   },
   "source": [
    "## Module 2: Group Testing and multiple testing correction\n",
    "\n",
    "Notebook version: `25.1` (please don't change)\n",
    "\n",
    "**IMPORTANT: Before you do anything, save a copy of this notebook to your own google drive using the `File -> Save a copy to Drive` button in the menu. Otherwise you cannot save your changes. Once you've saved a copy to your own drive, it's available there just like a regular Google Docs file, and it is saved automatically.**"
   ]
  },
  {
   "cell_type": "markdown",
   "metadata": {},
   "source": [
    "\n",
    "Load in the required libraries and data by running the cell below."
   ]
  },
  {
   "cell_type": "code",
   "execution_count": null,
   "metadata": {
    "colab": {
     "base_uri": "https://localhost:8080/"
    },
    "executionInfo": {
     "elapsed": 266,
     "status": "ok",
     "timestamp": 1708596794974,
     "user": {
      "displayName": "Bram Pronk",
      "userId": "16277271429276968714"
     },
     "user_tz": -60
    },
    "id": "iytW4ETDE66E",
    "outputId": "de5f187d-ef83-427e-89da-63244559e288"
   },
   "outputs": [],
   "source": [
    "!wget -nc https://raw.githubusercontent.com/brmprnk/LB2292/main/golub.pkl\n",
    "!wget -nc https://raw.githubusercontent.com/brmprnk/LB2292/main/LST_Functions.py\n",
    "\n",
    "import numpy as np\n",
    "import pickle\n",
    "import math\n",
    "import statsmodels.stats.multitest as multitest\n",
    "import scipy.special as special\n",
    "import scipy.stats as stats\n",
    "import matplotlib.pyplot as plt\n",
    "\n",
    "from LST_Functions import ztest_1samp  # ignore the yellow warning line\n",
    "\n",
    "# Read data\n",
    "with open('golub.pkl', 'rb') as f:\n",
    "\tdatadict = pickle.load(f)\n",
    "\n",
    "data = datadict['data']\n",
    "genes = datadict['genes']\n",
    "labels = datadict['labels']\n",
    "\n",
    "ALL = np.where(labels == 0)[0]\n",
    "AML = np.where(labels == 1)[0]"
   ]
  },
  {
   "cell_type": "markdown",
   "metadata": {
    "id": "AwdBoIT4Hq8F"
   },
   "source": [
    "### **Fisher's exact test**\n",
    "There may be a genetic basis for increased tasting abilities. Last year, researchers performed\n",
    "a genome- wide association study (GWAS) to find the relationship between genetic variations\n",
    "(single nucleotides) and several taste traits. Thousands of **GWAS** studies have been performed\n",
    "since their introduction one decade ago. You can read more about them for instance on\n",
    "[Wikipedia](https://en.wikipedia.org/wiki/Genome-wide_association_study).\n",
    "\n",
    "For one trait, enhanced bitter taste ability, the GWAS results from last year are as follows:\n",
    "\n",
    "|   | **SNP_id: rs4988235**  |   |\n",
    "|---|---|---|\n",
    "\n",
    "|   | AA  | AG  | GG  |\n",
    "|---|---|---|---|\n",
    "| Bitter  | 2 | 3 | 7 |\n",
    "| Not Bitter  | 4 | 9 | 11 |\n"
   ]
  },
  {
   "cell_type": "markdown",
   "metadata": {},
   "source": [
    "\n",
    "\n",
    "--- \n",
    "\n",
    "####  \u270f Exercise 1a (Fisher's exact test)\n",
    "\n",
    "> Determine the association between bitter taste and the AA/AG SNP using Fisher\u2019s Exact Test. Is the association significant? Use the `math.comb` function for the nCr operator.\n",
    "> \n",
    "> Hint: Turn this 2x3 table into a 2x2 contingency table.\n"
   ]
  },
  {
   "cell_type": "code",
   "execution_count": null,
   "metadata": {
    "colab": {
     "base_uri": "https://localhost:8080/",
     "height": 1000
    },
    "executionInfo": {
     "elapsed": 21,
     "status": "ok",
     "timestamp": 1708520781338,
     "user": {
      "displayName": "Timo Verlaan",
      "userId": "18117607379973306750"
     },
     "user_tz": -60
    },
    "id": "JU8fQzPIKxbc",
    "outputId": "05fd2108-0b61-48f0-bb8e-df4b74749ad6"
   },
   "outputs": [],
   "source": [
    "# SOLUTION:\n",
    "\n",
    "# Your code here ...\n"
   ]
  },
  {
   "cell_type": "markdown",
   "metadata": {
    "id": "OMZS_s8ocnIo"
   },
   "source": [
    "\n",
    "---\n",
    "\n",
    "#### \u270f Exercise 1b (Fisher's exact test)\n",
    "\n",
    "> Again calculate if the above association is significant, but this time use the function from `scipy.stats` (just `stats.function_to_call` will suffice). Was your above calculation of the p-value correct?\n"
   ]
  },
  {
   "cell_type": "code",
   "execution_count": null,
   "metadata": {
    "colab": {
     "base_uri": "https://localhost:8080/"
    },
    "executionInfo": {
     "elapsed": 18,
     "status": "ok",
     "timestamp": 1708520781338,
     "user": {
      "displayName": "Timo Verlaan",
      "userId": "18117607379973306750"
     },
     "user_tz": -60
    },
    "id": "aC73rXg8LBJS",
    "outputId": "ece02ac0-51f1-4fff-c5fb-1ec395156533"
   },
   "outputs": [],
   "source": [
    "# SOLUTION:\n",
    "\n",
    "# Your code here ...\n"
   ]
  },
  {
   "cell_type": "markdown",
   "metadata": {
    "id": "BLHGyef8I7Yk"
   },
   "source": [
    "### Chi-square test"
   ]
  },
  {
   "cell_type": "markdown",
   "metadata": {},
   "source": [
    "\n",
    "---\n",
    "\n",
    "#### \u270f Exercise 2\n",
    "\n",
    "> Repeat the previous exercise using the Pearson's Chi-square test. What is the p-value? Is the association significant?\n",
    "> \n",
    "> Hint: Use the Python function `st.chi2.sf` to calculate the p-value associated with X2. How many degrees of freedom would you use?"
   ]
  },
  {
   "cell_type": "code",
   "execution_count": null,
   "metadata": {
    "colab": {
     "base_uri": "https://localhost:8080/"
    },
    "executionInfo": {
     "elapsed": 16,
     "status": "ok",
     "timestamp": 1708520781338,
     "user": {
      "displayName": "Timo Verlaan",
      "userId": "18117607379973306750"
     },
     "user_tz": -60
    },
    "id": "XhwfJ0dQMlnV",
    "outputId": "edcafd75-419e-41fc-f3a4-4f25c173a9c6"
   },
   "outputs": [],
   "source": [
    "# SOLUTION:\n",
    "\n",
    "# Your code here ...\n"
   ]
  },
  {
   "cell_type": "markdown",
   "metadata": {
    "id": "K7N6-LBkHMrP"
   },
   "source": [
    "### **Fisher's exact / hypergeometric test**"
   ]
  },
  {
   "cell_type": "markdown",
   "metadata": {},
   "source": [
    "\n",
    "---\n",
    "\n",
    "#### \u270f Exercise 3a\n",
    "\n",
    "> In an experiment to identify genes related to Alzheimer's, researchers have tested 500 genes in human samples. Among the 500 genes, 10 genes are known to be involved in calcium signaling and 200 are known to be involved in apoptosis. The researchers have *found* a significant association between 50 genes and Alzheimer's among which 6 belong to the calcium signaling set and 20 belong to the apoptosis set. The researcher wants to know whether genes involved in calcium signaling or apoptosis are more represented in their selected set.\n",
    "> \n",
    "> Hint: Look at the function `stats.fisher_exact`. This question requires two tests and thus two contingency tables."
   ]
  },
  {
   "cell_type": "code",
   "execution_count": null,
   "metadata": {
    "colab": {
     "base_uri": "https://localhost:8080/"
    },
    "executionInfo": {
     "elapsed": 14,
     "status": "ok",
     "timestamp": 1708520781338,
     "user": {
      "displayName": "Timo Verlaan",
      "userId": "18117607379973306750"
     },
     "user_tz": -60
    },
    "id": "prpNN9rgARGb",
    "outputId": "35c1fc16-83d9-4402-f673-7c6e5b936f15"
   },
   "outputs": [],
   "source": [
    "# Given variables\n",
    "N = 500 # total number of genes\n",
    "m = 50 # number of selected genes\n",
    "S1 = 10 # number of genes involved in calcium signaling\n",
    "k1 = 6 # number of genes in m and involved in calcium signaling\n",
    "S2 = 200 # number of genes involved in apoptosis\n",
    "k2 = 20 # number of genes in m and involved in apoptosis\n",
    "p1 = 0 ## calcium signaling enrichment (to be calculated)\n",
    "p2 =  0 ## apoptosis enrichment (to be calculated)\n",
    "\n",
    "# SOLUTION:\n",
    "\n",
    "# Your code here ...\n"
   ]
  },
  {
   "cell_type": "markdown",
   "metadata": {},
   "source": [
    "### Gene Ontology enrichment"
   ]
  },
  {
   "cell_type": "markdown",
   "metadata": {
    "id": "0U59f3r3JH_q"
   },
   "source": [
    "\n",
    "---\n",
    "\n",
    "#### \u270f Exercise 3a (EXTRA QUESTION, not required)\n",
    "> If you want to characterise a set of genes, you can look for enriched gene ontology (GO) terms: annotated properties of genes that are overrepresented in a gene set. There are many online tools to do this.\n",
    ">\n",
    "> Go to the ToppFun tool in [ToppGene](https://toppgene.cchmc.org/enrichment.jsp). Here you can enter a list of gene identifiers to find enriched GO terms. Enter a gene set, either from the t-test results of exercise A, or by selecting one of the example data sets. Click \u201cstart\u201d to perform the tests. Which statistical test is used by ToppGene?\n",
    "\n",
    "**SOLUTION:**\n",
    "\n",
    "(your answer here)\n",
    "\n",
    "---\n"
   ]
  },
  {
   "cell_type": "markdown",
   "metadata": {
    "id": "6Z5OC8U9JbMN"
   },
   "source": [
    "### **Multiple testing correction**\n",
    "\n",
    "The first code block has loaded in the golub data from Module 1. The following code will calculate the number of differentially expressed genes between the ALL and AML samples using a t-test and plot the distribution of the t-statistic and p-values. Next, we create a randomized dataset by permuting the sample labels, and we repeat the experiment.\n"
   ]
  },
  {
   "cell_type": "code",
   "execution_count": null,
   "metadata": {
    "colab": {
     "base_uri": "https://localhost:8080/",
     "height": 977
    },
    "executionInfo": {
     "elapsed": 1022,
     "status": "ok",
     "timestamp": 1708520782348,
     "user": {
      "displayName": "Timo Verlaan",
      "userId": "18117607379973306750"
     },
     "user_tz": -60
    },
    "id": "xcA9P5dJP1Aw",
    "outputId": "cb4ec45e-7899-4b51-d923-4c529b1c2d6e"
   },
   "outputs": [],
   "source": [
    "# (1) t-test on the real data\n",
    "# perform t-test for all genes\n",
    "[T, pTtest] = stats.ttest_ind(data[:, ALL], data[:, AML], axis=1, equal_var=True)\n",
    "\n",
    "# plot the histogram of the t-statistics and p-values you calculated\n",
    "fig = plt.figure()\n",
    "ax = fig.add_subplot(1, 2, 1)\n",
    "ax.hist(T, bins=10, edgecolor='k')\n",
    "ax.set_xlabel('T statistic value')\n",
    "ax.set_ylabel('Frequency')\n",
    "ax = fig.add_subplot(1, 2, 2)\n",
    "ax.hist(pTtest, bins=20, edgecolor='k')\n",
    "ax.set_xlabel('p-value')\n",
    "ax.set_ylabel('Frequency')\n",
    "plt.suptitle('Original data')\n",
    "\n",
    "# (2) t-test on the random data\n",
    "# generate a new label vector (for now all labels are zero -> ALL)\n",
    "l = np.random.permutation(labels)\n",
    "# find the indices of the ALL and ALL samples\n",
    "randALL = np.where(l == 0)[0];\n",
    "randAML = np.where(l == 1)[0];\n",
    "# apply the t-test to the random samples\n",
    "[Trand, pRand] = stats.ttest_ind(data[:, randALL], data[:, randAML], axis=1, equal_var=True)\n",
    "\n",
    "# plot the histogram of the t-statistics and p-values you calculated\n",
    "fig = plt.figure()\n",
    "ax = fig.add_subplot(1, 2, 1)\n",
    "ax.hist(Trand, bins=10, edgecolor='k')\n",
    "ax.set_xlabel('T statistic value')\n",
    "ax.set_ylabel('Frequency')\n",
    "ax = fig.add_subplot(1, 2, 2)\n",
    "ax.hist(pRand, bins=20, edgecolor='k')\n",
    "ax.set_xlabel('p-value')\n",
    "ax.set_ylabel('Frequency')\n",
    "plt.suptitle('Randomized data')\n",
    "plt.show()"
   ]
  },
  {
   "cell_type": "markdown",
   "metadata": {
    "id": "ITgDi9CXJhrt"
   },
   "source": [
    "\n",
    "---\n",
    "\n",
    "#### \u270f Exercise 4a\n",
    "\n",
    "> What are the numbers of differentially expressed genes in case of using the real data and in case of using the randomized data? How can you explain the differentially expressed genes obtained using the randomized data?"
   ]
  },
  {
   "cell_type": "code",
   "execution_count": null,
   "metadata": {
    "colab": {
     "base_uri": "https://localhost:8080/"
    },
    "executionInfo": {
     "elapsed": 18,
     "status": "ok",
     "timestamp": 1708520782348,
     "user": {
      "displayName": "Timo Verlaan",
      "userId": "18117607379973306750"
     },
     "user_tz": -60
    },
    "id": "10H-JAZFQucA",
    "outputId": "7bb215b4-44f5-4c1a-dbb6-2b9bb42b9e2a"
   },
   "outputs": [],
   "source": [
    "# SOLUTION:\n",
    "\n",
    "# Your code here ...\n"
   ]
  },
  {
   "cell_type": "markdown",
   "metadata": {
    "id": "eyAC7PrGJuBt"
   },
   "source": [
    "\n",
    "---\n",
    "\n",
    "#### \u270f Exercise 4b\n",
    "\n",
    "> Use a Bonferroni (FWER) corrected significance level to call differentially expressed genes (using the real data). What is the new Bonferroni-corrected significance level (alpha)? How many genes are significant before and after correction? And in the randomized dataset?"
   ]
  },
  {
   "cell_type": "code",
   "execution_count": null,
   "metadata": {
    "colab": {
     "base_uri": "https://localhost:8080/"
    },
    "executionInfo": {
     "elapsed": 16,
     "status": "ok",
     "timestamp": 1708520782348,
     "user": {
      "displayName": "Timo Verlaan",
      "userId": "18117607379973306750"
     },
     "user_tz": -60
    },
    "id": "gN7ucDIFRCIW",
    "outputId": "f96fcd14-aa1b-42fa-eb8b-c1ef2bab0ccb"
   },
   "outputs": [],
   "source": [
    "# SOLUTION:\n",
    "\n",
    "# Your code here ...\n",
    "\n"
   ]
  },
  {
   "cell_type": "markdown",
   "metadata": {
    "id": "aIDH9LoiJ9Dh"
   },
   "source": [
    "\n",
    "---\n",
    "\n",
    "#### \u270f Exercise 4c\n",
    "\n",
    "> Use the Benjamini-Hochberg method (FDR) to correct for multiple testing. How many genes are differentially expressed (take FDR = 0.05)? How does this number compare to the number you got using the Bonferroni method? And in the randomized dataset?"
   ]
  },
  {
   "cell_type": "code",
   "execution_count": null,
   "metadata": {
    "colab": {
     "base_uri": "https://localhost:8080/"
    },
    "executionInfo": {
     "elapsed": 14,
     "status": "ok",
     "timestamp": 1708520782348,
     "user": {
      "displayName": "Timo Verlaan",
      "userId": "18117607379973306750"
     },
     "user_tz": -60
    },
    "id": "a5Ih4af4AYEE",
    "outputId": "a14dce69-dea3-4dfd-9ea2-dac1d4178d6e"
   },
   "outputs": [],
   "source": [
    "# SOLUTION:\n",
    "\n",
    "# Your code here ...\n"
   ]
  },
  {
   "cell_type": "markdown",
   "metadata": {
    "id": "2RAJd7ouRnBP"
   },
   "source": [
    "\n",
    "---\n",
    "\n",
    "#### \u270f Exercise 4d\n",
    "\n",
    "> Use the `multitest.multipletests` function to correct for multiple testing using the Benjamini-Hochberg method. Do you get the same results?"
   ]
  },
  {
   "cell_type": "code",
   "execution_count": null,
   "metadata": {
    "colab": {
     "base_uri": "https://localhost:8080/",
     "height": 211
    },
    "executionInfo": {
     "elapsed": 253,
     "status": "error",
     "timestamp": 1708597070404,
     "user": {
      "displayName": "Bram Pronk",
      "userId": "16277271429276968714"
     },
     "user_tz": -60
    },
    "id": "NAcE3SNtRnmC",
    "outputId": "be819be3-a0eb-41a7-c5e3-6b2283caca63"
   },
   "outputs": [],
   "source": [
    "# SOLUTION:\n",
    "\n",
    "# Your code here ...\n"
   ]
  }
 ],
 "metadata": {
  "colab": {
   "provenance": [
    {
     "file_id": "1l_67lL3LiOSITdBBZist3gbEWeBv4eiU",
     "timestamp": 1705942719968
    }
   ],
   "toc_visible": true
  },
  "kernelspec": {
   "display_name": "Python 3",
   "name": "python3"
  },
  "language_info": {
   "name": "python"
  }
 },
 "nbformat": 4,
 "nbformat_minor": 0
}