{
 "cells": [
  {
   "cell_type": "markdown",
   "metadata": {
    "id": "1uMhTSmHYKg5"
   },
   "source": [
    "# Project 2 - The Cancer Genome Atlas (TCGA) Data Analysis\n",
    "\n",
    "Notebook version: `25.3` (please don't change)\n",
    "\n",
    "**IMPORTANT: Before you do anything, save a copy of this notebook to your own google drive using the `File -> Save a copy to Drive` button in the menu. Otherwise you cannot save your changes. Once you've saved a copy to your own drive, it's available there just like a regular Google Docs file, and it is saved automatically.**"
   ]
  },
  {
   "cell_type": "markdown",
   "metadata": {},
   "source": [
    "The Cancer Genome Atlas (TCGA) is an international endeavor to catalogue genomic and genetic mutations in a variety of cancer tissues. It is generally believed that gathering such information from a large number of patients will improve our ability to diagnose, treat, and prevent cancer through a better understanding of the genomic variation introduced by cancer. Paramount to arrive at such understanding is the bioinformatic analysis of the data. In this project, you are offered the possibility to contribute to this venture. You have access to the processed TCGA data from $9,648$ patients having different forms of cancer.\n",
    "\n",
    "You are given the `clinical.csv` file, which contains many different types of information about each patient. For example, the field `cancer_type` contains the cancer subtype, `drug_received_treatment` denotes whether the patients received a drug treatment, and `vital_status` denotes whether a patient was still alive during the follow-up. Please note, that for some of these variables, information is available for a subset of the patients. An example is the `her2_immunohistochemistry_level_result` column, containing the HER2 score (0, 1+, 2+, or 3+), where 3+ denotes HER2-positive. This score is only available for breastcancer patients. For all patients for which a variable is not measured, the value is set to \"NaN\" (`np.nan` in Python).\n",
    "\n",
    "For each patient, you further have access to the following data:\n",
    "\n",
    "- `/data/expression.pkl` - **Gene expresssion data**: Expression of each gene, measured by RNAseq. The data was normalized to one million counts per sample (CPM) to account for different sequencing depths per sample, and then log-transformed. The data was not standardized (i.e. the mean expression of each gene is not zero), so think carefully about whether your analysis requires this.\n",
    "\n",
    "- `ME.pkl` - **DNA Methylation data**: Methylation of each gene, represented as beta-values, which are continuous values between 0 and 1, representing the ratio of intensities between methylated and unmethylated sites.\n",
    "\n",
    "- `CN.pkl` - **Copy-Number Variation data**: Copy-number variation of each gene. \n",
    "\n",
    "- `MIR.pkl` - **microRNA expression data**: Expression of each microRNA, measured by RNAseq. Just like the other gene experssion data, if was normalized to one million counts per sample (CPM), and then log-transformed, but not standardized.\n",
    "\n",
    "To link the data from these files to the patients, you can use the `patient_id` column in the each datatypes' dataframe, which corresponds to the index of the clinical dataframe (use `clinical.index`, or `clinical['patient_id']` to access it).\n",
    "\n",
    "Please note that for some of these data types, there is are additional samples for some patients, that are from reference healthy tissue. These can be identified by the `sample_type` column in the corresponding dataframe.\n",
    "\n",
    "More information about this dataset and some analyses of it can be found in the paper: Taskesen et al. Pan-cancer subtyping in a 2Dmap shows substructures that are driven by specific combinations of molecular characteristics. Nature Scientific Reports, 6:24949, 2016.\n",
    "doi: 10.1038/srep24949. (also available on BrightSpace)\n",
    "\n",
    "<br>\n",
    "\n",
    "---\n",
    "<br>\n",
    "\n",
    "\n",
    "> To contribute to the quest for solving cancer, you are asked to analyze this data, which also means that you should think of meaningful and interesting questions that can be answered using the provided data (these are not known beforehand!). Make use of at least one techniques you have learned from each of the modules 2, 3 and 4. Examples may include, looking for differential expressed markers, clustering the data to discover subtypes, or build predictors for adverse outcomes. More information about TCGA can be found on their website: https://cancergenome.nih.gov/ .\n",
    ">\n",
    "> The results should be summarized in a poster. Make sure that you: motivate choices that\n",
    "you made during the analyses (aim of the performed analysis, type of algorithm, parameter\n",
    "settings etc.); explain and discuss your findings; explain what is represented in figures (what\n",
    "is on the axes etc.).\n",
    "\n",
    "---"
   ]
  },
  {
   "cell_type": "markdown",
   "metadata": {},
   "source": [
    "**Hint**: So far you've made your plots with `matplotlib.pyplot`, which is excellent for basic plots, but if you need other types of plots, you may want to look at the `seaborn` library. They have many different types of visualizations (see some example [here](https://seaborn.pydata.org/examples/index.html)), and the library works well together with pandas."
   ]
  },
  {
   "cell_type": "code",
   "execution_count": null,
   "metadata": {
    "colab": {
     "base_uri": "https://localhost:8080/"
    },
    "executionInfo": {
     "elapsed": 55830,
     "status": "ok",
     "timestamp": 1727953498833,
     "user": {
      "displayName": "Timo Verlaan",
      "userId": "18117607379973306750"
     },
     "user_tz": -120
    },
    "id": "1fAuVyLYdCBj",
    "outputId": "c43ca660-9312-41e1-f2af-d02d2f51cbac"
   },
   "outputs": [],
   "source": [
    "!mkdir -p /data\n",
    "!wget -nc -O \"/data/clinical.csv\" https://surfdrive.surf.nl/files/index.php/s/653xXM13mXQFhnR/download\n",
    "!wget -nc -O \"/data/cnv.pkl\" https://surfdrive.surf.nl/files/index.php/s/Gkn21dal4o2mNhd/download\n",
    "!wget -nc -O \"/data/expression.pkl\" https://surfdrive.surf.nl/files/index.php/s/OCi3ZI2clscbqIs/download\n",
    "!wget -nc -O \"/data/meth.pkl\" https://surfdrive.surf.nl/files/index.php/s/6uzoxlHVVCjHyM1/download\n",
    "!wget -nc -O \"/data/mirna.pkl\" https://surfdrive.surf.nl/files/index.php/s/CCtSonICb3O0ByR/download"
   ]
  },
  {
   "cell_type": "code",
   "execution_count": null,
   "metadata": {
    "colab": {
     "base_uri": "https://localhost:8080/",
     "height": 332
    },
    "executionInfo": {
     "elapsed": 801,
     "status": "error",
     "timestamp": 1727955402884,
     "user": {
      "displayName": "Timo Verlaan",
      "userId": "18117607379973306750"
     },
     "user_tz": -120
    },
    "id": "cy_3e85aahjU",
    "outputId": "11f74c1f-c775-4b15-a904-a2f5c289dda5"
   },
   "outputs": [],
   "source": [
    "import pandas as pd\n",
    "import pickle\n",
    "\n",
    "with open(\"/data/cnv.pkl\", \"rb\") as f:\n",
    "  CN = pickle.load(f)\n",
    "\n",
    "with open(\"/data/expression.pkl\", \"rb\") as f:\n",
    "  GE = pickle.load(f)\n",
    "\n",
    "with open(\"/data/meth.pkl\", \"rb\") as f:\n",
    "  ME = pickle.load(f)\n",
    "\n",
    "with open(\"/data/mirna.pkl\", \"rb\") as f:\n",
    "  MIR = pickle.load(f)\n",
    "\n",
    "clinical = pd.read_csv(\"/data/clinical.csv\", index_col=0)"
   ]
  },
  {
   "cell_type": "code",
   "execution_count": null,
   "metadata": {
    "colab": {
     "base_uri": "https://localhost:8080/"
    },
    "executionInfo": {
     "elapsed": 365,
     "status": "ok",
     "timestamp": 1706703881934,
     "user": {
      "displayName": "Timo Verlaan",
      "userId": "18117607379973306750"
     },
     "user_tz": -60
    },
    "id": "O6ZtetGca08-",
    "outputId": "167064ae-6943-4c89-f002-cb0724fd6f61"
   },
   "outputs": [],
   "source": [
    "# Just like in the first project, everything is stored in Pandas dataframes:\n",
    "display(sample_info.head())"
   ]
  }
 ],
 "metadata": {
  "colab": {
   "provenance": [
    {
     "file_id": "1M0bzgnRf8BFgL-zhAQTxbqYnDbR68l2W",
     "timestamp": 1706021622182
    }
   ]
  },
  "kernelspec": {
   "display_name": "default",
   "language": "python",
   "name": "python3"
  },
  "language_info": {
   "codemirror_mode": {
    "name": "ipython",
    "version": 3
   },
   "file_extension": ".py",
   "mimetype": "text/x-python",
   "name": "python",
   "nbconvert_exporter": "python",
   "pygments_lexer": "ipython3",
   "version": "3.13.1"
  }
 },
 "nbformat": 4,
 "nbformat_minor": 0
}