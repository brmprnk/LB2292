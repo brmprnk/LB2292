{
 "cells": [
  {
   "cell_type": "markdown",
   "metadata": {
    "id": "1uMhTSmHYKg5"
   },
   "source": [
    "# Project 2 (P2)\n",
    "\n",
    "Notebook version: `25.1` (please don't change)\n",
    "\n",
    "**IMPORTANT: Before you do anything, save a copy of this notebook to your own google drive using the `File -> Save a copy to Drive` button in the menu. Otherwise you cannot save your changes. Once you've saved a copy to your own drive, it's available there just like a regular Google Docs file, and it is saved automatically.**"
   ]
  },
  {
   "cell_type": "markdown",
   "metadata": {},
   "source": [
    "The Cancer Genome Atlas (TCGA) is an international endeavor to catalogue genomic and genetic mutations in a variety of cancer tissues. It is generally believed that gathering such information from a large number of patients will improve our ability to diagnose, treat, and prevent cancer through a better understanding of the genomic variation introduced by cancer. Paramount to arrive at such understanding is the bioinformatic analysis of the data. In this project, you are offered the possibility to contribute to this venture. You have access to normalized TCGA data from 4434 patients having different forms of cancer.\n",
    "\n",
    "\n",
    "You are also given the `sample_info.pkl` file, which contains information about each patient. For example, the field `cancertype` contains the cancer subtype, `os` the time to follow up in months and `osi` has a 1 if a patient was alive at follow-up time and 0 otherwise. Please note, that for some of these variables, information is available for a subset of the patients. An example is the `HER2type` column, denoting whether a breastcancer patient has of the HER2 type, which is naturally only available for breastcancer patients. For all patients for which a variable is not measured, the value is set to \"NaN\" (`np.nan` in Python).\n",
    "\n",
    "For each patient, you further have access to the following data:\n",
    "- `GE.pkl` -Gene expression data\n",
    "- `ME.pkl` - DNA Methylation data\n",
    "- `CN.pkl` - Copy-Number Variation data\n",
    "- `MIR.pkl` - microRNA expression data\n",
    "\n",
    "To contribute to the quest for solving cancer, you are asked to analyze this data, which also means that you should think of meaningful and interesting questions that can be answered using the provided data (these are not known beforehand!). Try to make use of the content presented as part of modules 2, 3 and 4, e.g. looking for differential expressed markers, clustering the data to discover subtypes, or build predictors for adverse outcomes. More information about TCGA can be found on their website: https://cancergenome.nih.gov/ .\n",
    "\n",
    "More information about this dataset and some analyses of it can be found in the paper: Taskesen et al. Pan-cancer subtyping in a 2Dmap shows substructures that are driven by specific combinations of molecular characteristics. Nature Scientific Reports, 6:24949, 2016.\n",
    "doi: 10.1038/srep24949. (also available on BrightSpace)\n",
    "\n",
    "<br>\n",
    "\n",
    "---\n",
    "\n",
    "The results should be summarized in a poster. Make sure that you: motivate choices that\n",
    "you made during the analyses (aim of the performed analysis, type of algorithm, parameter\n",
    "settings etc.); explain and discuss your findings; explain what is represented in figures (what\n",
    "is on the axes etc.).\n",
    "\n",
    "---"
   ]
  },
  {
   "cell_type": "markdown",
   "metadata": {},
   "source": [
    "**Hint**: So far you've made your plots with `matplotlib.pyplot`, which is excellent for basic plots, but if you need other types of plots, you may want to look at the `seaborn` library. They have many different types of visualizations (see some example [here](https://seaborn.pydata.org/examples/index.html)), and the library works well together with pandas.\n"
   ]
  },
  {
   "cell_type": "code",
   "execution_count": null,
   "metadata": {
    "colab": {
     "base_uri": "https://localhost:8080/"
    },
    "executionInfo": {
     "elapsed": 55830,
     "status": "ok",
     "timestamp": 1727953498833,
     "user": {
      "displayName": "Timo Verlaan",
      "userId": "18117607379973306750"
     },
     "user_tz": -120
    },
    "id": "1fAuVyLYdCBj",
    "outputId": "c43ca660-9312-41e1-f2af-d02d2f51cbac"
   },
   "outputs": [],
   "source": [
    "!wget -nc -O \"CN.pkl\" https://surfdrive.surf.nl/files/index.php/s/M4ggslgihmkElMQ/download\n",
    "!wget -nc -O \"GE.pkl\" https://surfdrive.surf.nl/files/index.php/s/MpDsfJWwwVOENod/download\n",
    "!wget -nc -O \"ME.pkl\" https://surfdrive.surf.nl/files/index.php/s/pLIH3F1mnAPPCkQ/download\n",
    "!wget -nc -O \"MIR.pkl\" https://surfdrive.surf.nl/files/index.php/s/olb2ZNtPyfLU8qR/download\n",
    "!wget -nc -O \"sample_info.pkl\" https://surfdrive.surf.nl/files/index.php/s/Oa71uEshvR9isKL/download"
   ]
  },
  {
   "cell_type": "code",
   "execution_count": 56,
   "metadata": {
    "colab": {
     "base_uri": "https://localhost:8080/",
     "height": 332
    },
    "executionInfo": {
     "elapsed": 801,
     "status": "error",
     "timestamp": 1727955402884,
     "user": {
      "displayName": "Timo Verlaan",
      "userId": "18117607379973306750"
     },
     "user_tz": -120
    },
    "id": "cy_3e85aahjU",
    "outputId": "11f74c1f-c775-4b15-a904-a2f5c289dda5"
   },
   "outputs": [],
   "source": [
    "import pandas as pd\n",
    "import numpy as np\n",
    "import pickle\n",
    "\n",
    "with open(\"CN.pkl\", \"rb\") as f:\n",
    "  CN = pickle.load(f)\n",
    "\n",
    "with open(\"GE.pkl\", \"rb\") as f:\n",
    "  GE = pickle.load(f)\n",
    "\n",
    "with open(\"ME.pkl\", \"rb\") as f:\n",
    "  ME = pickle.load(f)\n",
    "\n",
    "with open(\"MIR.pkl\", \"rb\") as f:\n",
    "  MIR = pickle.load(f)\n",
    "\n",
    "sample_info = pd.read_csv(\"sample_info.csv\", index_col=0, low_memory=False)\n",
    "sample_info[sample_info == \"[Not Available]\"] = np.nan  # Make sure we only have one type of missing value in the dataframe"
   ]
  },
  {
   "cell_type": "code",
   "execution_count": null,
   "metadata": {
    "colab": {
     "base_uri": "https://localhost:8080/"
    },
    "executionInfo": {
     "elapsed": 365,
     "status": "ok",
     "timestamp": 1706703881934,
     "user": {
      "displayName": "Timo Verlaan",
      "userId": "18117607379973306750"
     },
     "user_tz": -60
    },
    "id": "O6ZtetGca08-",
    "outputId": "167064ae-6943-4c89-f002-cb0724fd6f61"
   },
   "outputs": [],
   "source": [
    "# Just like in the first project, everything is stored in Pandas dataframes:\n",
    "display(sample_info.head())"
   ]
  }
 ],
 "metadata": {
  "colab": {
   "provenance": [
    {
     "file_id": "1M0bzgnRf8BFgL-zhAQTxbqYnDbR68l2W",
     "timestamp": 1706021622182
    }
   ]
  },
  "kernelspec": {
   "display_name": "default",
   "language": "python",
   "name": "python3"
  },
  "language_info": {
   "codemirror_mode": {
    "name": "ipython",
    "version": 3
   },
   "file_extension": ".py",
   "mimetype": "text/x-python",
   "name": "python",
   "nbconvert_exporter": "python",
   "pygments_lexer": "ipython3",
   "version": "3.13.1"
  }
 },
 "nbformat": 4,
 "nbformat_minor": 0
}