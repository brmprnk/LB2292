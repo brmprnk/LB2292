{
 "cells": [
  {
   "cell_type": "code",
   "execution_count": 4,
   "metadata": {},
   "outputs": [
    {
     "data": {
      "text/plain": [
       "{'divide': 'warn', 'over': 'warn', 'under': 'ignore', 'invalid': 'warn'}"
      ]
     },
     "execution_count": 4,
     "metadata": {},
     "output_type": "execute_result"
    }
   ],
   "source": [
    "import pickle as pkl\n",
    "import pandas as pd\n",
    "import numpy as np\n",
    "\n",
    "# Used to suppress overflow warnings due to float16 representation\n",
    "np.seterr(over=\"ignore\")"
   ]
  },
  {
   "cell_type": "code",
   "execution_count": 5,
   "metadata": {},
   "outputs": [],
   "source": [
    "DATA_DIR = \"project2/data\"\n",
    "PATH_CLINICAL = f\"{DATA_DIR}/processed/clinical.csv\"\n",
    "PATH_EXPRESSION = f\"{DATA_DIR}/processed/expression.pkl\"\n",
    "PATH_CNV = f\"{DATA_DIR}/processed/cnv.pkl\"\n",
    "PATH_METH = f\"{DATA_DIR}/processed/meth.pkl\"\n",
    "PATH_MIRNA = f\"{DATA_DIR}/processed/mirna.pkl\""
   ]
  },
  {
   "cell_type": "code",
   "execution_count": 6,
   "metadata": {},
   "outputs": [],
   "source": [
    "# load them all\n",
    "clinical = pd.read_csv(PATH_CLINICAL, index_col=0)\n",
    "expression = pkl.load(open(PATH_EXPRESSION, \"rb\"))\n",
    "cnv = pkl.load(open(PATH_CNV, \"rb\"))\n",
    "meth = pkl.load(open(PATH_METH, \"rb\"))\n",
    "mirna = pkl.load(open(PATH_MIRNA, \"rb\"))"
   ]
  }
 ],
 "metadata": {
  "kernelspec": {
   "display_name": "default",
   "language": "python",
   "name": "python3"
  },
  "language_info": {
   "codemirror_mode": {
    "name": "ipython",
    "version": 3
   },
   "file_extension": ".py",
   "mimetype": "text/x-python",
   "name": "python",
   "nbconvert_exporter": "python",
   "pygments_lexer": "ipython3",
   "version": "3.13.1"
  }
 },
 "nbformat": 4,
 "nbformat_minor": 2
}
